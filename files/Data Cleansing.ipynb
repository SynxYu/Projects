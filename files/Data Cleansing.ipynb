{
 "cells": [
  {
   "cell_type": "markdown",
   "id": "ec83b8d8-5276-4df6-bad6-a668694400f8",
   "metadata": {},
   "source": [
    "# Data Cleansing"
   ]
  },
  {
   "cell_type": "code",
   "execution_count": 3,
   "id": "b8bf3e27-b5d4-4c8b-993c-8a829cc243b4",
   "metadata": {},
   "outputs": [],
   "source": [
    "import pandas as pd"
   ]
  },
  {
   "cell_type": "markdown",
   "id": "88581fc2-3bf2-480a-bd7e-db1361461f3e",
   "metadata": {},
   "source": [
    "### Read File"
   ]
  },
  {
   "cell_type": "code",
   "execution_count": 5,
   "id": "42cd3332-5b39-4c7b-b61e-f885800a2eb8",
   "metadata": {},
   "outputs": [
    {
     "data": {
      "text/html": [
       "<div>\n",
       "<style scoped>\n",
       "    .dataframe tbody tr th:only-of-type {\n",
       "        vertical-align: middle;\n",
       "    }\n",
       "\n",
       "    .dataframe tbody tr th {\n",
       "        vertical-align: top;\n",
       "    }\n",
       "\n",
       "    .dataframe thead th {\n",
       "        text-align: right;\n",
       "    }\n",
       "</style>\n",
       "<table border=\"1\" class=\"dataframe\">\n",
       "  <thead>\n",
       "    <tr style=\"text-align: right;\">\n",
       "      <th></th>\n",
       "      <th>CustomerID</th>\n",
       "      <th>First_Name</th>\n",
       "      <th>Last_Name</th>\n",
       "      <th>Phone_Number</th>\n",
       "      <th>Address</th>\n",
       "      <th>Paying Customer</th>\n",
       "      <th>Do_Not_Contact</th>\n",
       "      <th>Not_Useful_Column</th>\n",
       "    </tr>\n",
       "  </thead>\n",
       "  <tbody>\n",
       "    <tr>\n",
       "      <th>0</th>\n",
       "      <td>1001</td>\n",
       "      <td>Frodo</td>\n",
       "      <td>Baggins</td>\n",
       "      <td>123-545-5421</td>\n",
       "      <td>123 Shire Lane, Shire</td>\n",
       "      <td>Yes</td>\n",
       "      <td>No</td>\n",
       "      <td>True</td>\n",
       "    </tr>\n",
       "    <tr>\n",
       "      <th>1</th>\n",
       "      <td>1002</td>\n",
       "      <td>Abed</td>\n",
       "      <td>Nadir</td>\n",
       "      <td>123/643/9775</td>\n",
       "      <td>93 West Main Street</td>\n",
       "      <td>No</td>\n",
       "      <td>Yes</td>\n",
       "      <td>False</td>\n",
       "    </tr>\n",
       "    <tr>\n",
       "      <th>2</th>\n",
       "      <td>1003</td>\n",
       "      <td>Walter</td>\n",
       "      <td>/White</td>\n",
       "      <td>7066950392</td>\n",
       "      <td>298 Drugs Driveway</td>\n",
       "      <td>N</td>\n",
       "      <td>NaN</td>\n",
       "      <td>True</td>\n",
       "    </tr>\n",
       "    <tr>\n",
       "      <th>3</th>\n",
       "      <td>1004</td>\n",
       "      <td>Dwight</td>\n",
       "      <td>Schrute</td>\n",
       "      <td>123-543-2345</td>\n",
       "      <td>980 Paper Avenue, Pennsylvania, 18503</td>\n",
       "      <td>Yes</td>\n",
       "      <td>Y</td>\n",
       "      <td>True</td>\n",
       "    </tr>\n",
       "    <tr>\n",
       "      <th>4</th>\n",
       "      <td>1005</td>\n",
       "      <td>Jon</td>\n",
       "      <td>Snow</td>\n",
       "      <td>876|678|3469</td>\n",
       "      <td>123 Dragons Road</td>\n",
       "      <td>Y</td>\n",
       "      <td>No</td>\n",
       "      <td>True</td>\n",
       "    </tr>\n",
       "    <tr>\n",
       "      <th>5</th>\n",
       "      <td>1006</td>\n",
       "      <td>Ron</td>\n",
       "      <td>Swanson</td>\n",
       "      <td>304-762-2467</td>\n",
       "      <td>768 City Parkway</td>\n",
       "      <td>Yes</td>\n",
       "      <td>Yes</td>\n",
       "      <td>True</td>\n",
       "    </tr>\n",
       "    <tr>\n",
       "      <th>6</th>\n",
       "      <td>1007</td>\n",
       "      <td>Jeff</td>\n",
       "      <td>Winger</td>\n",
       "      <td>NaN</td>\n",
       "      <td>1209 South Street</td>\n",
       "      <td>No</td>\n",
       "      <td>No</td>\n",
       "      <td>False</td>\n",
       "    </tr>\n",
       "    <tr>\n",
       "      <th>7</th>\n",
       "      <td>1008</td>\n",
       "      <td>Sherlock</td>\n",
       "      <td>Holmes</td>\n",
       "      <td>876|678|3469</td>\n",
       "      <td>98 Clue Drive</td>\n",
       "      <td>N</td>\n",
       "      <td>No</td>\n",
       "      <td>False</td>\n",
       "    </tr>\n",
       "    <tr>\n",
       "      <th>8</th>\n",
       "      <td>1009</td>\n",
       "      <td>Gandalf</td>\n",
       "      <td>NaN</td>\n",
       "      <td>N/a</td>\n",
       "      <td>123 Middle Earth</td>\n",
       "      <td>Yes</td>\n",
       "      <td>NaN</td>\n",
       "      <td>False</td>\n",
       "    </tr>\n",
       "    <tr>\n",
       "      <th>9</th>\n",
       "      <td>1010</td>\n",
       "      <td>Peter</td>\n",
       "      <td>Parker</td>\n",
       "      <td>123-545-5421</td>\n",
       "      <td>25th Main Street, New York</td>\n",
       "      <td>Yes</td>\n",
       "      <td>No</td>\n",
       "      <td>True</td>\n",
       "    </tr>\n",
       "    <tr>\n",
       "      <th>10</th>\n",
       "      <td>1011</td>\n",
       "      <td>Samwise</td>\n",
       "      <td>Gamgee</td>\n",
       "      <td>NaN</td>\n",
       "      <td>612 Shire Lane, Shire</td>\n",
       "      <td>Yes</td>\n",
       "      <td>No</td>\n",
       "      <td>True</td>\n",
       "    </tr>\n",
       "    <tr>\n",
       "      <th>11</th>\n",
       "      <td>1012</td>\n",
       "      <td>Harry</td>\n",
       "      <td>...Potter</td>\n",
       "      <td>7066950392</td>\n",
       "      <td>2394 Hogwarts Avenue</td>\n",
       "      <td>Y</td>\n",
       "      <td>NaN</td>\n",
       "      <td>True</td>\n",
       "    </tr>\n",
       "    <tr>\n",
       "      <th>12</th>\n",
       "      <td>1013</td>\n",
       "      <td>Don</td>\n",
       "      <td>Draper</td>\n",
       "      <td>123-543-2345</td>\n",
       "      <td>2039 Main Street</td>\n",
       "      <td>Yes</td>\n",
       "      <td>N</td>\n",
       "      <td>False</td>\n",
       "    </tr>\n",
       "    <tr>\n",
       "      <th>13</th>\n",
       "      <td>1014</td>\n",
       "      <td>Leslie</td>\n",
       "      <td>Knope</td>\n",
       "      <td>876|678|3469</td>\n",
       "      <td>343 City Parkway</td>\n",
       "      <td>Yes</td>\n",
       "      <td>No</td>\n",
       "      <td>False</td>\n",
       "    </tr>\n",
       "    <tr>\n",
       "      <th>14</th>\n",
       "      <td>1015</td>\n",
       "      <td>Toby</td>\n",
       "      <td>Flenderson_</td>\n",
       "      <td>304-762-2467</td>\n",
       "      <td>214 HR Avenue</td>\n",
       "      <td>N</td>\n",
       "      <td>No</td>\n",
       "      <td>False</td>\n",
       "    </tr>\n",
       "    <tr>\n",
       "      <th>15</th>\n",
       "      <td>1016</td>\n",
       "      <td>Ron</td>\n",
       "      <td>Weasley</td>\n",
       "      <td>123-545-5421</td>\n",
       "      <td>2395 Hogwarts Avenue</td>\n",
       "      <td>No</td>\n",
       "      <td>N</td>\n",
       "      <td>False</td>\n",
       "    </tr>\n",
       "    <tr>\n",
       "      <th>16</th>\n",
       "      <td>1017</td>\n",
       "      <td>Michael</td>\n",
       "      <td>Scott</td>\n",
       "      <td>123/643/9775</td>\n",
       "      <td>121 Paper Avenue, Pennsylvania</td>\n",
       "      <td>Yes</td>\n",
       "      <td>No</td>\n",
       "      <td>False</td>\n",
       "    </tr>\n",
       "    <tr>\n",
       "      <th>17</th>\n",
       "      <td>1018</td>\n",
       "      <td>Clark</td>\n",
       "      <td>Kent</td>\n",
       "      <td>7066950392</td>\n",
       "      <td>3498 Super Lane</td>\n",
       "      <td>Y</td>\n",
       "      <td>NaN</td>\n",
       "      <td>True</td>\n",
       "    </tr>\n",
       "    <tr>\n",
       "      <th>18</th>\n",
       "      <td>1019</td>\n",
       "      <td>Creed</td>\n",
       "      <td>Braton</td>\n",
       "      <td>N/a</td>\n",
       "      <td>N/a</td>\n",
       "      <td>N/a</td>\n",
       "      <td>Yes</td>\n",
       "      <td>True</td>\n",
       "    </tr>\n",
       "    <tr>\n",
       "      <th>19</th>\n",
       "      <td>1020</td>\n",
       "      <td>Anakin</td>\n",
       "      <td>Skywalker</td>\n",
       "      <td>876|678|3469</td>\n",
       "      <td>910 Tatooine Road, Tatooine</td>\n",
       "      <td>Yes</td>\n",
       "      <td>N</td>\n",
       "      <td>True</td>\n",
       "    </tr>\n",
       "    <tr>\n",
       "      <th>20</th>\n",
       "      <td>1020</td>\n",
       "      <td>Anakin</td>\n",
       "      <td>Skywalker</td>\n",
       "      <td>876|678|3469</td>\n",
       "      <td>910 Tatooine Road, Tatooine</td>\n",
       "      <td>Yes</td>\n",
       "      <td>N</td>\n",
       "      <td>True</td>\n",
       "    </tr>\n",
       "  </tbody>\n",
       "</table>\n",
       "</div>"
      ],
      "text/plain": [
       "    CustomerID First_Name    Last_Name  Phone_Number  \\\n",
       "0         1001      Frodo      Baggins  123-545-5421   \n",
       "1         1002       Abed        Nadir  123/643/9775   \n",
       "2         1003     Walter       /White    7066950392   \n",
       "3         1004     Dwight      Schrute  123-543-2345   \n",
       "4         1005        Jon         Snow  876|678|3469   \n",
       "5         1006        Ron      Swanson  304-762-2467   \n",
       "6         1007       Jeff       Winger           NaN   \n",
       "7         1008   Sherlock       Holmes  876|678|3469   \n",
       "8         1009    Gandalf          NaN           N/a   \n",
       "9         1010      Peter       Parker  123-545-5421   \n",
       "10        1011    Samwise       Gamgee           NaN   \n",
       "11        1012      Harry    ...Potter    7066950392   \n",
       "12        1013        Don       Draper  123-543-2345   \n",
       "13        1014     Leslie        Knope  876|678|3469   \n",
       "14        1015       Toby  Flenderson_  304-762-2467   \n",
       "15        1016        Ron      Weasley  123-545-5421   \n",
       "16        1017   Michael         Scott  123/643/9775   \n",
       "17        1018      Clark         Kent    7066950392   \n",
       "18        1019      Creed       Braton           N/a   \n",
       "19        1020     Anakin    Skywalker  876|678|3469   \n",
       "20        1020     Anakin    Skywalker  876|678|3469   \n",
       "\n",
       "                                  Address Paying Customer Do_Not_Contact  \\\n",
       "0                   123 Shire Lane, Shire             Yes             No   \n",
       "1                     93 West Main Street              No            Yes   \n",
       "2                      298 Drugs Driveway               N            NaN   \n",
       "3   980 Paper Avenue, Pennsylvania, 18503             Yes              Y   \n",
       "4                        123 Dragons Road               Y             No   \n",
       "5                        768 City Parkway             Yes            Yes   \n",
       "6                       1209 South Street              No             No   \n",
       "7                           98 Clue Drive               N             No   \n",
       "8                        123 Middle Earth             Yes            NaN   \n",
       "9              25th Main Street, New York             Yes             No   \n",
       "10                  612 Shire Lane, Shire             Yes             No   \n",
       "11                   2394 Hogwarts Avenue               Y            NaN   \n",
       "12                       2039 Main Street             Yes              N   \n",
       "13                       343 City Parkway             Yes             No   \n",
       "14                          214 HR Avenue               N             No   \n",
       "15                   2395 Hogwarts Avenue              No              N   \n",
       "16         121 Paper Avenue, Pennsylvania             Yes             No   \n",
       "17                        3498 Super Lane               Y            NaN   \n",
       "18                                    N/a             N/a            Yes   \n",
       "19            910 Tatooine Road, Tatooine             Yes              N   \n",
       "20            910 Tatooine Road, Tatooine             Yes              N   \n",
       "\n",
       "    Not_Useful_Column  \n",
       "0                True  \n",
       "1               False  \n",
       "2                True  \n",
       "3                True  \n",
       "4                True  \n",
       "5                True  \n",
       "6               False  \n",
       "7               False  \n",
       "8               False  \n",
       "9                True  \n",
       "10               True  \n",
       "11               True  \n",
       "12              False  \n",
       "13              False  \n",
       "14              False  \n",
       "15              False  \n",
       "16              False  \n",
       "17               True  \n",
       "18               True  \n",
       "19               True  \n",
       "20               True  "
      ]
     },
     "execution_count": 5,
     "metadata": {},
     "output_type": "execute_result"
    }
   ],
   "source": [
    "df = pd.read_excel(r\"D:\\Analyst Datasets\\Pandas\\Customer Call List.xlsx\")\n",
    "df"
   ]
  },
  {
   "cell_type": "markdown",
   "id": "44e132fd-beba-4df0-8b92-a1cf22051bfc",
   "metadata": {},
   "source": [
    "### Remove Duplicates"
   ]
  },
  {
   "cell_type": "code",
   "execution_count": null,
   "id": "5072397f-5a04-4b96-bf97-6b5d56363db7",
   "metadata": {},
   "outputs": [],
   "source": [
    "df = df.drop_duplicates()\n",
    "df"
   ]
  },
  {
   "cell_type": "markdown",
   "id": "5ae6f846-a58a-4c3f-8a09-f7772957bf5e",
   "metadata": {},
   "source": [
    "### Drop not useful column"
   ]
  },
  {
   "cell_type": "code",
   "execution_count": null,
   "id": "174ea6da-5c57-4840-886a-36b90ebc34a0",
   "metadata": {},
   "outputs": [],
   "source": [
    "df = df.drop(columns = 'Not_Useful_Column')\n",
    "df"
   ]
  },
  {
   "cell_type": "markdown",
   "id": "9562ef72-6503-4b9f-85ea-c0eb26aa8bbc",
   "metadata": {},
   "source": [
    "### Cleaning the Last Name column by removing extra characters"
   ]
  },
  {
   "cell_type": "code",
   "execution_count": null,
   "id": "801807ab-e16f-4ca2-b3f5-7cb6db881f25",
   "metadata": {},
   "outputs": [],
   "source": [
    "df['Last_Name'] = df['Last_Name'].str.strip(\"123._/\")\n",
    "df"
   ]
  },
  {
   "cell_type": "markdown",
   "id": "e1f413d5-2d43-476d-9456-ddcf30ac7775",
   "metadata": {},
   "source": [
    "### Cleaning Phone Number column by first stripping all special characters"
   ]
  },
  {
   "cell_type": "code",
   "execution_count": null,
   "id": "18509cf1-ddce-49ea-9f73-42934cb63e87",
   "metadata": {},
   "outputs": [],
   "source": [
    "df['Phone_Number'] = df['Phone_Number'].str.replace('[^A-Za-z0-9]', '', regex=True)\n",
    "df"
   ]
  },
  {
   "cell_type": "markdown",
   "id": "66b36b29-23e8-4c8f-b657-4783870a3855",
   "metadata": {},
   "source": [
    "### and then insert the new format back onto Phone Number"
   ]
  },
  {
   "cell_type": "code",
   "execution_count": null,
   "id": "0fc58351-9710-4222-af43-716bc9df67db",
   "metadata": {},
   "outputs": [],
   "source": [
    "df['Phone_Number'] = df['Phone_Number'].apply(lambda x: str(x))\n",
    "df['Phone_Number'] = df['Phone_Number'].apply(lambda x: x[0:3] + '-' + x[3:6] + '-' + x[6:10])\n",
    "df"
   ]
  },
  {
   "cell_type": "markdown",
   "id": "1893985f-cb94-4055-9a0f-c2af4caee166",
   "metadata": {},
   "source": [
    "### ...and then strip off extra characters on null values"
   ]
  },
  {
   "cell_type": "code",
   "execution_count": null,
   "id": "a8196bee-4f5c-4aa2-9b2e-1cf26477abcc",
   "metadata": {},
   "outputs": [],
   "source": [
    "df['Phone_Number'] = df['Phone_Number'].str.strip('--')\n",
    "df"
   ]
  },
  {
   "cell_type": "markdown",
   "id": "73b11a3b-388d-4f69-912b-afe14f41d968",
   "metadata": {},
   "source": [
    "### Clearing all null values"
   ]
  },
  {
   "cell_type": "code",
   "execution_count": null,
   "id": "074cab89-c6cb-4ac7-8b68-fa76770c8f27",
   "metadata": {},
   "outputs": [],
   "source": [
    "df = df.fillna('')\n",
    "df = df.replace('N/a', '')\n",
    "df = df.replace('nan', '')\n",
    "df = df.replace('Na', '')\n",
    "df"
   ]
  },
  {
   "cell_type": "markdown",
   "id": "bdd89252-7e31-4b93-8b70-c567c16092c1",
   "metadata": {},
   "source": [
    "### Splitting the Address into 3 columns for more detailed view"
   ]
  },
  {
   "cell_type": "code",
   "execution_count": null,
   "id": "1de3aadd-9497-480a-8671-bc67bdf6666e",
   "metadata": {},
   "outputs": [],
   "source": [
    "df[['Street_Address', 'State', 'Zip_Code']] = df['Address'].str.split(',', n=2, expand=True)\n",
    "df"
   ]
  },
  {
   "cell_type": "markdown",
   "id": "72e9850e-7260-4e3f-92b3-114ab2e75d04",
   "metadata": {},
   "source": [
    "### Formatting 'Yes' and 'No' into 'Y' and 'N' for coherence and simplicity "
   ]
  },
  {
   "cell_type": "code",
   "execution_count": null,
   "id": "efc949e8-7a7e-4731-9b70-8f10f5ada99d",
   "metadata": {},
   "outputs": [],
   "source": [
    "df['Paying Customer'] = df['Paying Customer'].str.replace('Yes', 'Y')\n",
    "df['Paying Customer'] = df['Paying Customer'].str.replace('No', 'N')\n",
    "df['Do_Not_Contact'] = df['Do_Not_Contact'].str.replace('Yes', 'Y')\n",
    "df['Do_Not_Contact'] = df['Do_Not_Contact'].str.replace('No', 'N')\n",
    "df"
   ]
  },
  {
   "cell_type": "markdown",
   "id": "3b74ca8d-9175-46a4-b73f-357d5825a749",
   "metadata": {},
   "source": [
    "### Changing the response of customers who did not specify they don't want to be contacted"
   ]
  },
  {
   "cell_type": "code",
   "execution_count": null,
   "id": "5129a1f3-4eb5-4ae2-bec6-5e0ee19924b8",
   "metadata": {},
   "outputs": [],
   "source": [
    "df['Do_Not_Contact'] = df['Do_Not_Contact'].replace('', 'N')\n",
    "df"
   ]
  },
  {
   "cell_type": "markdown",
   "id": "033d54ee-3c17-4071-9f5f-4727724d2049",
   "metadata": {},
   "source": [
    "### Drop rows where customers specified they don't want to be contacted"
   ]
  },
  {
   "cell_type": "code",
   "execution_count": null,
   "id": "86f93743-6f74-4c97-b51e-0397d75bb5e0",
   "metadata": {
    "scrolled": true
   },
   "outputs": [],
   "source": [
    "for x in df.index:\n",
    "    if df.loc[x, 'Do_Not_Contact'] == 'Y':\n",
    "        df.drop(x, inplace=True)\n",
    "df"
   ]
  },
  {
   "cell_type": "markdown",
   "id": "6cb85b36-2851-400f-be8a-c7f693ac786b",
   "metadata": {},
   "source": [
    "### Drop rows where customers' phone numbers don't exist"
   ]
  },
  {
   "cell_type": "code",
   "execution_count": null,
   "id": "9bb00123-612a-498a-9a67-b4930e42b1b0",
   "metadata": {},
   "outputs": [],
   "source": [
    "for x in df.index:\n",
    "    if df.loc[x, 'Phone_Number'] == '':\n",
    "        df.drop(x, inplace=True)\n",
    "df"
   ]
  },
  {
   "cell_type": "markdown",
   "id": "416c3a76-31bb-4825-8845-e8045d5ad71f",
   "metadata": {},
   "source": [
    "### Reset index"
   ]
  },
  {
   "cell_type": "code",
   "execution_count": null,
   "id": "eb23abc0-50a3-4a75-9186-176190acc1d0",
   "metadata": {},
   "outputs": [],
   "source": [
    "df = df.reset_index(drop=True)\n",
    "df"
   ]
  }
 ],
 "metadata": {
  "kernelspec": {
   "display_name": "Python [conda env:base] *",
   "language": "python",
   "name": "conda-base-py"
  },
  "language_info": {
   "codemirror_mode": {
    "name": "ipython",
    "version": 3
   },
   "file_extension": ".py",
   "mimetype": "text/x-python",
   "name": "python",
   "nbconvert_exporter": "python",
   "pygments_lexer": "ipython3",
   "version": "3.12.7"
  }
 },
 "nbformat": 4,
 "nbformat_minor": 5
}
